{
 "cells": [
  {
   "cell_type": "code",
   "execution_count": null,
   "metadata": {},
   "outputs": [],
   "source": [
    "import pandas as pd"
   ]
  },
  {
   "cell_type": "code",
   "execution_count": null,
   "metadata": {},
   "outputs": [],
   "source": [
    "df=pd.read_csv(r\"C:\\Users\\Deva\\Downloads\\Customer Call.csv\")\n",
    "df\n"
   ]
  },
  {
   "cell_type": "code",
   "execution_count": null,
   "metadata": {},
   "outputs": [],
   "source": [
    "df=df.drop_duplicates()\n",
    "df"
   ]
  },
  {
   "cell_type": "code",
   "execution_count": null,
   "metadata": {},
   "outputs": [],
   "source": [
    "df=df.drop(columns=\"Not_Useful_Column\")\n",
    "df"
   ]
  },
  {
   "cell_type": "code",
   "execution_count": null,
   "metadata": {},
   "outputs": [],
   "source": [
    "#df[\"Last_Name\"]=df[\"Last_Name\"].str.lstrip(\"...\")\n",
    "#df[\"Last_Name\"]=df[\"Last_Name\"].str.lstrip(\"/\")\n",
    "#df[\"Last_Name\"]=df[\"Last_Name\"].str.rstrip(\"_\")\n",
    "df[\"Last_Name\"]=df[\"Last_Name\"].str.strip(\"123./_\")\n",
    "df\n",
    "\n"
   ]
  },
  {
   "cell_type": "code",
   "execution_count": null,
   "metadata": {},
   "outputs": [],
   "source": [
    "\n",
    "df[\"Phone_Number\"]=df[\"Phone_Number\"].str.replace('[^a-zA-Z0-9]','',regex=True)\n",
    "df\n"
   ]
  },
  {
   "cell_type": "code",
   "execution_count": null,
   "metadata": {},
   "outputs": [],
   "source": [
    "#df[\"Phone_number\"]=df[\"Phone_Number\"].astype(\"str\")\n",
    "#df.info()\n",
    "#df[\"Phone_Number\"]=df[\"Phone_Number\"].apply(lambda x: x[0:3] + '-' + x[3:6] + '-' + x[6:10])\n",
    "df[\"Phone_Number\"]=df[\"Phone_Number\"].apply(lambda x: str(x))\n",
    "\n",
    "\n"
   ]
  },
  {
   "cell_type": "code",
   "execution_count": null,
   "metadata": {},
   "outputs": [],
   "source": [
    "#df[\"Phone_Number\"]=df[\"Phone_Number\"].str.replace('[^a-zA-Z0-9]','',regex=True)\n",
    "df[\"Phone_Number\"]=df[\"Phone_Number\"].apply(lambda x: str(x))\n",
    "\n",
    "df[\"Phone_Number\"]=df[\"Phone_Number\"].apply(lambda x: x[0:3] + '-' + x[3:6] + '-' + x[6:10])\n",
    "df\n"
   ]
  },
  {
   "cell_type": "code",
   "execution_count": null,
   "metadata": {},
   "outputs": [],
   "source": [
    "df[\"Phone_Number\"]=df[\"Phone_Number\"].str.replace('nan--','')\n",
    "df[\"Phone_Number\"]=df[\"Phone_Number\"].str.replace('Na--','')\n",
    "df"
   ]
  },
  {
   "cell_type": "code",
   "execution_count": null,
   "metadata": {},
   "outputs": [],
   "source": [
    "#df[\"Address\"]=df[\"Address\"].apply(lambda x: str(x))\n",
    "df[[\"Street Address\",\"State\",\"Zip_Code\"]]=df[\"Address\"].str.split(',',n=2,expand=True)\n",
    "df"
   ]
  },
  {
   "cell_type": "code",
   "execution_count": null,
   "metadata": {},
   "outputs": [],
   "source": [
    "df[\"Paying Customer\"]=df[\"Paying Customer\"].str.replace(\"Yes\",\"Y\")\n",
    "df[\"Paying Customer\"]=df[\"Paying Customer\"].str.replace(\"No\",\"N\")\n",
    "df"
   ]
  },
  {
   "cell_type": "code",
   "execution_count": null,
   "metadata": {},
   "outputs": [],
   "source": [
    "df[\"Do_Not_Contact\"]=df[\"Do_Not_Contact\"].str.replace(\"Yes\",\"Y\")\n",
    "df[\"Do_Not_Contact\"]=df[\"Do_Not_Contact\"].str.replace(\"No\",\"N\")\n",
    "df"
   ]
  },
  {
   "cell_type": "code",
   "execution_count": null,
   "metadata": {},
   "outputs": [],
   "source": [
    "df=df.fillna('')\n",
    "df"
   ]
  },
  {
   "cell_type": "code",
   "execution_count": null,
   "metadata": {},
   "outputs": [],
   "source": [
    "for x in df.index:\n",
    "    if df.loc[x,\"Do_Not_Contact\"]=='Y':\n",
    "        df.drop(x,inplace=True)\n",
    "\n",
    "\n",
    "df        \n",
    "    "
   ]
  },
  {
   "cell_type": "code",
   "execution_count": null,
   "metadata": {},
   "outputs": [],
   "source": [
    "for x in df.index:\n",
    "    if df.loc[x,\"Phone_Number\"]=='':\n",
    "        df.drop(x,inplace=True)\n",
    "\n",
    "df\n",
    "\n",
    "#Another way to drop null values\n",
    "#df=df.dropna(subset=\"Phone_Number\"),inplace=True)\n",
    "\n"
   ]
  },
  {
   "cell_type": "code",
   "execution_count": null,
   "metadata": {},
   "outputs": [],
   "source": [
    "df"
   ]
  },
  {
   "cell_type": "code",
   "execution_count": null,
   "metadata": {},
   "outputs": [],
   "source": [
    "df.reset_index(drop=True)"
   ]
  },
  {
   "cell_type": "code",
   "execution_count": null,
   "metadata": {},
   "outputs": [],
   "source": [
    "df"
   ]
  },
  {
   "cell_type": "code",
   "execution_count": null,
   "metadata": {},
   "outputs": [],
   "source": []
  },
  {
   "cell_type": "code",
   "execution_count": null,
   "metadata": {},
   "outputs": [],
   "source": []
  }
 ],
 "metadata": {
  "kernelspec": {
   "display_name": "Python 3",
   "language": "python",
   "name": "python3"
  },
  "language_info": {
   "codemirror_mode": {
    "name": "ipython",
    "version": 3
   },
   "file_extension": ".py",
   "mimetype": "text/x-python",
   "name": "python",
   "nbconvert_exporter": "python",
   "pygments_lexer": "ipython3",
   "version": "3.12.7"
  }
 },
 "nbformat": 4,
 "nbformat_minor": 2
}
